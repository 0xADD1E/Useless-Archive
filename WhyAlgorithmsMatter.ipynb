{
 "cells": [
  {
   "cell_type": "code",
   "execution_count": 1,
   "metadata": {},
   "outputs": [],
   "source": [
    "import pandas as pd\n",
    "import matplotlib.pyplot\n",
    "matplotlib.style.use('fivethirtyeight')\n",
    "\n",
    "%matplotlib inline\n",
    "\n",
    "def lkup(x):\n",
    "    if x == 's':\n",
    "        return 1000000000\n",
    "    elif x == 'ms':\n",
    "        return 1000000\n",
    "    elif x == 'µs':\n",
    "        return 1000\n",
    "    else:\n",
    "        return 1"
   ]
  },
  {
   "cell_type": "code",
   "execution_count": 2,
   "metadata": {
    "collapsed": true
   },
   "outputs": [],
   "source": [
    "def fibb1(x):\n",
    "    if x == 0:\n",
    "        return 0\n",
    "    if x == 1:\n",
    "        return 1\n",
    "    return fibb1(x-1) + fibb1(x-2)"
   ]
  },
  {
   "cell_type": "code",
   "execution_count": 3,
   "metadata": {
    "collapsed": true
   },
   "outputs": [],
   "source": [
    "def fibb2(x):\n",
    "    x -= 1\n",
    "    x1 = 0\n",
    "    x2 = 1\n",
    "    for i in range(x):\n",
    "        x1 += x2\n",
    "        x1, x2 = x2, x1\n",
    "    return x2"
   ]
  },
  {
   "cell_type": "code",
   "execution_count": 4,
   "metadata": {
    "scrolled": true
   },
   "outputs": [],
   "source": [
    "#for i in range(1, 40):\n",
    "#    %timeit fibb1(i)"
   ]
  },
  {
   "cell_type": "code",
   "execution_count": 5,
   "metadata": {
    "collapsed": true
   },
   "outputs": [],
   "source": [
    "resStr = \"\"\"198 ns ± 8.62 ns per loop (mean ± std. dev. of 7 runs, 1000000 loops each)\n",
    "544 ns ± 12 ns per loop (mean ± std. dev. of 7 runs, 1000000 loops each)\n",
    "976 ns ± 16.5 ns per loop (mean ± std. dev. of 7 runs, 1000000 loops each)\n",
    "1.83 µs ± 34.7 ns per loop (mean ± std. dev. of 7 runs, 1000000 loops each)\n",
    "3.12 µs ± 89.3 ns per loop (mean ± std. dev. of 7 runs, 100000 loops each)\n",
    "4.99 µs ± 276 ns per loop (mean ± std. dev. of 7 runs, 100000 loops each)\n",
    "8.28 µs ± 378 ns per loop (mean ± std. dev. of 7 runs, 100000 loops each)\n",
    "13.2 µs ± 82.3 ns per loop (mean ± std. dev. of 7 runs, 100000 loops each)\n",
    "21.6 µs ± 1.42 µs per loop (mean ± std. dev. of 7 runs, 10000 loops each)\n",
    "34.8 µs ± 949 ns per loop (mean ± std. dev. of 7 runs, 10000 loops each)\n",
    "57 µs ± 1.5 µs per loop (mean ± std. dev. of 7 runs, 10000 loops each)\n",
    "92.1 µs ± 1.32 µs per loop (mean ± std. dev. of 7 runs, 10000 loops each)\n",
    "160 µs ± 4.95 µs per loop (mean ± std. dev. of 7 runs, 10000 loops each)\n",
    "245 µs ± 7.9 µs per loop (mean ± std. dev. of 7 runs, 1000 loops each)\n",
    "420 µs ± 31 µs per loop (mean ± std. dev. of 7 runs, 1000 loops each)\n",
    "680 µs ± 41.9 µs per loop (mean ± std. dev. of 7 runs, 1000 loops each)\n",
    "1.07 ms ± 24.6 µs per loop (mean ± std. dev. of 7 runs, 1000 loops each)\n",
    "1.7 ms ± 19.1 µs per loop (mean ± std. dev. of 7 runs, 1000 loops each)\n",
    "2.77 ms ± 147 µs per loop (mean ± std. dev. of 7 runs, 100 loops each)\n",
    "4.5 ms ± 111 µs per loop (mean ± std. dev. of 7 runs, 100 loops each)\n",
    "7.21 ms ± 181 µs per loop (mean ± std. dev. of 7 runs, 100 loops each)\n",
    "13.9 ms ± 2.94 ms per loop (mean ± std. dev. of 7 runs, 100 loops each)\n",
    "19 ms ± 696 µs per loop (mean ± std. dev. of 7 runs, 10 loops each)\n",
    "29.9 ms ± 974 µs per loop (mean ± std. dev. of 7 runs, 10 loops each)\n",
    "49.8 ms ± 2.43 ms per loop (mean ± std. dev. of 7 runs, 10 loops each)\n",
    "80 ms ± 2.09 ms per loop (mean ± std. dev. of 7 runs, 10 loops each)\n",
    "129 ms ± 1.88 ms per loop (mean ± std. dev. of 7 runs, 10 loops each)\n",
    "211 ms ± 8.61 ms per loop (mean ± std. dev. of 7 runs, 1 loop each)\n",
    "366 ms ± 42.5 ms per loop (mean ± std. dev. of 7 runs, 1 loop each)\n",
    "561 ms ± 9.79 ms per loop (mean ± std. dev. of 7 runs, 1 loop each)\n",
    "895 ms ± 21.7 ms per loop (mean ± std. dev. of 7 runs, 1 loop each)\n",
    "1.46 s ± 59.4 ms per loop (mean ± std. dev. of 7 runs, 1 loop each)\n",
    "2.44 s ± 118 ms per loop (mean ± std. dev. of 7 runs, 1 loop each)\n",
    "3.72 s ± 48.2 ms per loop (mean ± std. dev. of 7 runs, 1 loop each)\n",
    "6.51 s ± 391 ms per loop (mean ± std. dev. of 7 runs, 1 loop each)\n",
    "10.3 s ± 164 ms per loop (mean ± std. dev. of 7 runs, 1 loop each)\n",
    "15.9 s ± 332 ms per loop (mean ± std. dev. of 7 runs, 1 loop each)\n",
    "25.5 s ± 182 ms per loop (mean ± std. dev. of 7 runs, 1 loop each)\n",
    "41.5 s ± 301 ms per loop (mean ± std. dev. of 7 runs, 1 loop each)\"\"\"\n",
    "fibb1Data = [(float(x[0])*lkup(x[1]), float(x[3])*lkup(x[4])) for x in [y.split(' ') for y in resStr.split('\\n')]]"
   ]
  },
  {
   "cell_type": "code",
   "execution_count": 6,
   "metadata": {},
   "outputs": [],
   "source": [
    "#for i in range(1, 40):\n",
    "#    %timeit fibb2(i)"
   ]
  },
  {
   "cell_type": "code",
   "execution_count": 7,
   "metadata": {
    "collapsed": true
   },
   "outputs": [],
   "source": [
    "resStr = \"\"\"470 ns ± 18.1 ns per loop (mean ± std. dev. of 7 runs, 1000000 loops each)\n",
    "651 ns ± 33.4 ns per loop (mean ± std. dev. of 7 runs, 1000000 loops each)\n",
    "704 ns ± 30.2 ns per loop (mean ± std. dev. of 7 runs, 1000000 loops each)\n",
    "789 ns ± 35.2 ns per loop (mean ± std. dev. of 7 runs, 1000000 loops each)\n",
    "838 ns ± 13.7 ns per loop (mean ± std. dev. of 7 runs, 1000000 loops each)\n",
    "908 ns ± 26.3 ns per loop (mean ± std. dev. of 7 runs, 1000000 loops each)\n",
    "941 ns ± 13.6 ns per loop (mean ± std. dev. of 7 runs, 1000000 loops each)\n",
    "1.05 µs ± 28.3 ns per loop (mean ± std. dev. of 7 runs, 1000000 loops each)\n",
    "1.14 µs ± 44.9 ns per loop (mean ± std. dev. of 7 runs, 1000000 loops each)\n",
    "1.3 µs ± 68.2 ns per loop (mean ± std. dev. of 7 runs, 1000000 loops each)\n",
    "1.27 µs ± 26.5 ns per loop (mean ± std. dev. of 7 runs, 1000000 loops each)\n",
    "1.32 µs ± 35.6 ns per loop (mean ± std. dev. of 7 runs, 1000000 loops each)\n",
    "1.37 µs ± 23 ns per loop (mean ± std. dev. of 7 runs, 1000000 loops each)\n",
    "1.47 µs ± 19.6 ns per loop (mean ± std. dev. of 7 runs, 1000000 loops each)\n",
    "1.58 µs ± 21.5 ns per loop (mean ± std. dev. of 7 runs, 1000000 loops each)\n",
    "1.74 µs ± 85.4 ns per loop (mean ± std. dev. of 7 runs, 1000000 loops each)\n",
    "1.74 µs ± 24 ns per loop (mean ± std. dev. of 7 runs, 1000000 loops each)\n",
    "1.83 µs ± 34.2 ns per loop (mean ± std. dev. of 7 runs, 1000000 loops each)\n",
    "1.92 µs ± 25.7 ns per loop (mean ± std. dev. of 7 runs, 1000000 loops each)\n",
    "2.01 µs ± 37.6 ns per loop (mean ± std. dev. of 7 runs, 1000000 loops each)\n",
    "2.1 µs ± 32.9 ns per loop (mean ± std. dev. of 7 runs, 1000000 loops each)\n",
    "2.15 µs ± 98.9 ns per loop (mean ± std. dev. of 7 runs, 100000 loops each)\n",
    "2.26 µs ± 97.9 ns per loop (mean ± std. dev. of 7 runs, 100000 loops each)\n",
    "2.33 µs ± 85.3 ns per loop (mean ± std. dev. of 7 runs, 100000 loops each)\n",
    "2.4 µs ± 120 ns per loop (mean ± std. dev. of 7 runs, 100000 loops each)\n",
    "2.54 µs ± 87 ns per loop (mean ± std. dev. of 7 runs, 100000 loops each)\n",
    "2.65 µs ± 86.2 ns per loop (mean ± std. dev. of 7 runs, 100000 loops each)\n",
    "2.81 µs ± 145 ns per loop (mean ± std. dev. of 7 runs, 100000 loops each)\n",
    "3.1 µs ± 219 ns per loop (mean ± std. dev. of 7 runs, 100000 loops each)\n",
    "3.12 µs ± 269 ns per loop (mean ± std. dev. of 7 runs, 100000 loops each)\n",
    "2.95 µs ± 47.8 ns per loop (mean ± std. dev. of 7 runs, 100000 loops each)\n",
    "3.1 µs ± 139 ns per loop (mean ± std. dev. of 7 runs, 100000 loops each)\n",
    "3.23 µs ± 124 ns per loop (mean ± std. dev. of 7 runs, 100000 loops each)\n",
    "3.2 µs ± 138 ns per loop (mean ± std. dev. of 7 runs, 100000 loops each)\n",
    "3.28 µs ± 48.9 ns per loop (mean ± std. dev. of 7 runs, 100000 loops each)\n",
    "3.5 µs ± 72.6 ns per loop (mean ± std. dev. of 7 runs, 100000 loops each)\n",
    "3.51 µs ± 144 ns per loop (mean ± std. dev. of 7 runs, 100000 loops each)\n",
    "3.95 µs ± 438 ns per loop (mean ± std. dev. of 7 runs, 100000 loops each)\n",
    "4.05 µs ± 229 ns per loop (mean ± std. dev. of 7 runs, 100000 loops each)\"\"\"\n",
    "fibb2Data = [(float(x[0])*lkup(x[1]), float(x[3])*lkup(x[4])) for x in [y.split(' ') for y in resStr.split('\\n')]]"
   ]
  },
  {
   "cell_type": "code",
   "execution_count": 8,
   "metadata": {},
   "outputs": [
    {
     "data": {
      "text/plain": [
       "<matplotlib.axes._subplots.AxesSubplot at 0x1082e9e10>"
      ]
     },
     "execution_count": 8,
     "metadata": {},
     "output_type": "execute_result"
    },
    {
     "data": {
      "image/png": "[encoded data removed]",
      "text/plain": [
       "<matplotlib.figure.Figure at 0x10830e198>"
      ]
     },
     "metadata": {},
     "output_type": "display_data"
    }
   ],
   "source": [
    "pd.DataFrame([x[0] for x in fibb1Data]).plot()"
   ]
  },
  {
   "cell_type": "code",
   "execution_count": 9,
   "metadata": {},
   "outputs": [
    {
     "data": {
      "text/plain": [
       "<matplotlib.axes._subplots.AxesSubplot at 0x10833e550>"
      ]
     },
     "execution_count": 9,
     "metadata": {},
     "output_type": "execute_result"
    },
    {
     "data": {
      "image/png": "[encoded data removed]",
      "text/plain": [
       "<matplotlib.figure.Figure at 0x1083469b0>"
      ]
     },
     "metadata": {},
     "output_type": "display_data"
    }
   ],
   "source": [
    "pd.DataFrame([x[0] for x in fibb2Data]).plot()"
   ]
  },
  {
   "cell_type": "code",
   "execution_count": null,
   "metadata": {
    "collapsed": true
   },
   "outputs": [],
   "source": []
  }
 ],
 "metadata": {
  "kernelspec": {
   "display_name": "Python 3",
   "language": "python",
   "name": "python3"
  },
  "language_info": {
   "codemirror_mode": {
    "name": "ipython",
    "version": 3
   },
   "file_extension": ".py",
   "mimetype": "text/x-python",
   "name": "python",
   "nbconvert_exporter": "python",
   "pygments_lexer": "ipython3",
   "version": "3.6.3"
  }
 },
 "nbformat": 4,
 "nbformat_minor": 2
}
